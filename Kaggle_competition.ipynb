{
  "nbformat": 4,
  "nbformat_minor": 0,
  "metadata": {
    "colab": {
      "provenance": [],
      "authorship_tag": "ABX9TyNDlImSKuXoiXb3XjOmx4Aj",
      "include_colab_link": true
    },
    "kernelspec": {
      "name": "python3",
      "display_name": "Python 3"
    },
    "language_info": {
      "name": "python"
    }
  },
  "cells": [
    {
      "cell_type": "markdown",
      "metadata": {
        "id": "view-in-github",
        "colab_type": "text"
      },
      "source": [
        "<a href=\"https://colab.research.google.com/github/ayoni02/AltSchool-Final-Capstone-Project/blob/main/Kaggle_competition.ipynb\" target=\"_parent\"><img src=\"https://colab.research.google.com/assets/colab-badge.svg\" alt=\"Open In Colab\"/></a>"
      ]
    },
    {
      "cell_type": "code",
      "execution_count": 111,
      "metadata": {
        "id": "Ds-ZVB2UaztC"
      },
      "outputs": [],
      "source": [
        "import numpy as np # linear algebra\n",
        "import pandas as pd # data processing, CSV file I/O (e.g. pd.read_csv)\n",
        "import requests # for getting the text file\n"
      ]
    },
    {
      "cell_type": "code",
      "source": [
        "\n",
        "df = pd.read_csv('https://drive.usercontent.google.com/download?id=1WOVctOzv7GwyeQLI8QbM3GMM3P6Qi_C4&export=download&authuser=0&confirm=t&uuid=296ad8fd-e24f-420e-906a-0d837c64799f&at=APZUnTV7lgapZPcytlIiL3NRwWHw:1723666991305', index_col='Id')\n",
        "\n",
        "dft = pd.read_csv('https://drive.usercontent.google.com/download?id=1DpUXJ2lNXXrGIFISsWXiqjeRi_YRbBcF&export=download&authuser=0&confirm=t&uuid=4f656d78-70c3-435b-b9d6-5deb0da014ec&at=APZUnTVxNozGW4aaV5V7_5NM52US:1723667203985', index_col='Id')"
      ],
      "metadata": {
        "id": "yURS8gWd6YXJ"
      },
      "execution_count": 112,
      "outputs": []
    },
    {
      "cell_type": "code",
      "source": [
        "df = df.drop(['MiscFeature', 'PoolQC', 'Alley', 'Fence'], axis=1) # drop the listed columns\n",
        "\n",
        "dft = dft.drop(['MiscFeature', 'PoolQC', 'Alley', 'Fence'], axis=1) # drop the listed columns"
      ],
      "metadata": {
        "id": "3g6qXKKU6dRB"
      },
      "execution_count": 113,
      "outputs": []
    },
    {
      "cell_type": "code",
      "source": [
        "df['MasVnrType'] = df.MasVnrType.fillna('None') # fill null values with 'None'\n",
        "df['MasVnrArea'] = df.MasVnrArea.fillna(0) # fill null values with 0\n",
        "\n",
        "dft['MasVnrType'] = dft.MasVnrType.fillna('None') # fill null values with 'None'\n",
        "dft['MasVnrArea'] = dft.MasVnrArea.fillna(0) # fill null values with"
      ],
      "metadata": {
        "id": "aFV23E4d7AYp"
      },
      "execution_count": 114,
      "outputs": []
    },
    {
      "cell_type": "code",
      "source": [
        "df['FireplaceQu'] = df.FireplaceQu.fillna('None') # fill null values with 'None'\n",
        "\n",
        "dft['FireplaceQu'] = dft.FireplaceQu.fillna('None') # fill null values with 'None'"
      ],
      "metadata": {
        "id": "64n7lBcA7Kyb"
      },
      "execution_count": 115,
      "outputs": []
    },
    {
      "cell_type": "code",
      "source": [
        "# Filling the null values with 'None' and 0 where needed\n",
        "df['GarageType'] = df.GarageType.fillna('None')\n",
        "df['GarageFinish'] = df.GarageFinish.fillna('None')\n",
        "df['GarageQual'] = df.GarageQual.fillna('None')\n",
        "df['GarageCond'] = df.GarageCond.fillna('None')\n",
        "df['GarageYrBlt'] = df.GarageYrBlt.fillna(0)\n",
        "\n",
        "dft['GarageType'] = dft.GarageType.fillna('None')\n",
        "dft['GarageFinish'] = dft.GarageFinish.fillna('None')\n",
        "dft['GarageQual'] = dft.GarageQual.fillna('None')\n",
        "dft['GarageCond'] = dft.GarageCond.fillna('None')\n",
        "dft['GarageYrBlt'] = dft.GarageYrBlt.fillna(0)"
      ],
      "metadata": {
        "id": "k4x4irHe7Qce"
      },
      "execution_count": 116,
      "outputs": []
    },
    {
      "cell_type": "code",
      "source": [
        "df['BsmtFinType1'] = df.BsmtFinType1.fillna('None')\n",
        "df['BsmtFinType2'] = df.BsmtFinType2.fillna('None')\n",
        "df['BsmtExposure'] = df.BsmtExposure.fillna('None')\n",
        "df['BsmtQual'] = df.BsmtQual.fillna('None')\n",
        "df['BsmtCond'] = df.BsmtCond.fillna('None')\n",
        "\n",
        "dft['BsmtFinType1'] = dft.BsmtFinType1.fillna('None')\n",
        "dft['BsmtFinType2'] = dft.BsmtFinType2.fillna('None')\n",
        "dft['BsmtExposure'] = dft.BsmtExposure.fillna('None')\n",
        "dft['BsmtQual'] = dft.BsmtQual.fillna('None')\n",
        "dft['BsmtCond'] = dft.BsmtCond.fillna('None')"
      ],
      "metadata": {
        "id": "9QF44646CGOu"
      },
      "execution_count": 117,
      "outputs": []
    },
    {
      "cell_type": "code",
      "source": [
        "# Filling the mean values with the mean of the total values\n",
        "df['LotFrontage'] = df.LotFrontage.fillna(df.LotFrontage.mean())\n",
        "\n",
        "dft['LotFrontage'] = dft.LotFrontage.fillna(dft.LotFrontage.mean())"
      ],
      "metadata": {
        "id": "bP23iXSaCXGF"
      },
      "execution_count": 118,
      "outputs": []
    },
    {
      "cell_type": "code",
      "source": [
        "df = df.drop(1380, axis=0)"
      ],
      "metadata": {
        "id": "qEFhJDQICeEp"
      },
      "execution_count": 119,
      "outputs": []
    },
    {
      "cell_type": "code",
      "source": [
        "dft['GarageCars'  ] = dft.GarageCars.fillna(0)\n",
        "dft['GarageArea' ] = dft.GarageArea.fillna(0)\n",
        "dft['TotalBsmtSF'] = dft.TotalBsmtSF.fillna(0)\n",
        "dft['BsmtUnfSF' ] = dft.BsmtUnfSF.fillna(0)\n",
        "dft['BsmtFinSF2'] = dft.BsmtFinSF2.fillna(0)\n",
        "dft['BsmtFinSF1'] = dft.BsmtFinSF1.fillna(0)\n",
        "dft['BsmtFullBath'] = dft.BsmtFullBath.fillna(0)\n",
        "dft['BsmtHalfBath'] = dft.BsmtHalfBath.fillna(0)"
      ],
      "metadata": {
        "id": "RiNzpHZ_C-P8"
      },
      "execution_count": 120,
      "outputs": []
    },
    {
      "cell_type": "code",
      "source": [
        "dft['MSZoning'] = dft.MSZoning.fillna('RL')\n",
        "dft['Utilities'] = dft.Utilities.fillna('NoSeWa')\n",
        "dft['Exterior1st'] = dft.Exterior1st.fillna('VinylSd')\n",
        "dft['Exterior2nd'] = dft.Exterior2nd.fillna('VinylSd')\n",
        "dft['KitchenQual'] = dft.KitchenQual.fillna('TA')\n",
        "dft['Functional'] = dft.Functional.fillna('Typ')\n",
        "dft['SaleType'] = dft.SaleType.fillna('WD')"
      ],
      "metadata": {
        "id": "Eoh9cJVvJKhp"
      },
      "execution_count": 121,
      "outputs": []
    },
    {
      "cell_type": "code",
      "source": [
        "df = df[(df.Condition2 != \"RRNn\") & (df.Condition2 != \"RRAn\") & (df.Condition2 != \"RRAe\")]"
      ],
      "metadata": {
        "id": "F_-3eT49Q0V6"
      },
      "execution_count": 122,
      "outputs": []
    },
    {
      "cell_type": "code",
      "source": [
        "df = df[df.HouseStyle != \"2.5Fin\"]"
      ],
      "metadata": {
        "id": "WGZyhm5BTBWO"
      },
      "execution_count": 123,
      "outputs": []
    },
    {
      "cell_type": "code",
      "source": [
        "df = df[(df.RoofMatl != \"Roll\") & (df.RoofMatl != \"Metal\") & (df.RoofMatl != \"Membran\") & (df.RoofMatl != \"ClyTile\")]"
      ],
      "metadata": {
        "id": "GrPu9gKQTaLh"
      },
      "execution_count": 124,
      "outputs": []
    },
    {
      "cell_type": "code",
      "source": [
        "df = df[(df.Exterior1st != \"Stone\") & (df.Exterior1st != \"ImStucc\")]"
      ],
      "metadata": {
        "id": "7Wki16ZGZdFK"
      },
      "execution_count": 125,
      "outputs": []
    },
    {
      "cell_type": "code",
      "source": [
        "df = df[(df.Exterior2nd != \"Other\")]"
      ],
      "metadata": {
        "id": "5w8NEFV6Z9jZ"
      },
      "execution_count": 126,
      "outputs": []
    },
    {
      "cell_type": "code",
      "source": [
        "df = df[df.GarageQual != \"Ex\"]"
      ],
      "metadata": {
        "id": "OFfdonrCa4q_"
      },
      "execution_count": 127,
      "outputs": []
    },
    {
      "cell_type": "code",
      "source": [
        "df = df[df.Electrical != \"Mix\"]"
      ],
      "metadata": {
        "id": "pvHUjdiAbZkU"
      },
      "execution_count": 128,
      "outputs": []
    },
    {
      "cell_type": "code",
      "source": [
        "df = df[(df.Heating != \"OthW\") & (df.Heating != \"Floor\")]"
      ],
      "metadata": {
        "id": "XtuF9xksbe0q"
      },
      "execution_count": 129,
      "outputs": []
    },
    {
      "cell_type": "code",
      "source": [
        "df = df.drop(\"Utilities\", axis=1)"
      ],
      "metadata": {
        "id": "XKuGxWJ2cGBf"
      },
      "execution_count": 130,
      "outputs": []
    },
    {
      "cell_type": "code",
      "source": [
        "dft = dft.drop(\"Utilities\", axis=1)"
      ],
      "metadata": {
        "id": "FaKZc7bacSUc"
      },
      "execution_count": 131,
      "outputs": []
    },
    {
      "cell_type": "code",
      "source": [
        "dft[\"GarageCond\"] = dft[\"GarageCond\"].replace(\"Ex\", \"None\")"
      ],
      "metadata": {
        "id": "3k5tsjwzdF1C"
      },
      "execution_count": 132,
      "outputs": []
    },
    {
      "cell_type": "code",
      "source": [
        "df.GarageCond.unique()"
      ],
      "metadata": {
        "colab": {
          "base_uri": "https://localhost:8080/"
        },
        "id": "R6tW9zXCc0Qf",
        "outputId": "1288a73e-5c7d-41e8-9daf-ff7d5f60d66f"
      },
      "execution_count": 133,
      "outputs": [
        {
          "output_type": "execute_result",
          "data": {
            "text/plain": [
              "array(['TA', 'Fa', 'None', 'Gd', 'Po'], dtype=object)"
            ]
          },
          "metadata": {},
          "execution_count": 133
        }
      ]
    },
    {
      "cell_type": "code",
      "source": [
        "dft.GarageCond.unique()"
      ],
      "metadata": {
        "colab": {
          "base_uri": "https://localhost:8080/"
        },
        "id": "rAs3ohhhc7UX",
        "outputId": "ecfd8e0c-e16d-4e56-8d7c-7eeed0c8796b"
      },
      "execution_count": 134,
      "outputs": [
        {
          "output_type": "execute_result",
          "data": {
            "text/plain": [
              "array(['TA', 'None', 'Fa', 'Gd', 'Po'], dtype=object)"
            ]
          },
          "metadata": {},
          "execution_count": 134
        }
      ]
    },
    {
      "cell_type": "code",
      "source": [
        "df[\"SalePrice\"] = np.log(df.SalePrice)"
      ],
      "metadata": {
        "id": "j9_fopUI4h7g"
      },
      "execution_count": 135,
      "outputs": []
    },
    {
      "cell_type": "code",
      "source": [
        "# categorizing the object columns into a single dataframe\n",
        "dfo = df.select_dtypes(include=['object'])\n",
        "dfc = dfo.columns.to_list() # getting the columns\n",
        "display(dfo.shape) # checking the length of the rows columns\n",
        "\n",
        "# dropping the columns and saving the remaining numeric columns result here to be used later\n",
        "dff = df.drop(dfc, axis=1)\n",
        "dff.sample(3, random_state=101)\n",
        "display(dff.shape)"
      ],
      "metadata": {
        "colab": {
          "base_uri": "https://localhost:8080/",
          "height": 53
        },
        "id": "wE3iycdRdnob",
        "outputId": "ac525eef-02e7-4bff-afa6-170e7a7a996a"
      },
      "execution_count": 136,
      "outputs": [
        {
          "output_type": "display_data",
          "data": {
            "text/plain": [
              "(1433, 38)"
            ]
          },
          "metadata": {}
        },
        {
          "output_type": "display_data",
          "data": {
            "text/plain": [
              "(1433, 37)"
            ]
          },
          "metadata": {}
        }
      ]
    },
    {
      "cell_type": "code",
      "source": [
        "display(dfo.shape) # checking the shape to keep track of the changes\n",
        "\n",
        "# Looping through the columns to find those with categories that are too skewed\n",
        "# (i.e, where one category hold 80% of the dataset)\n",
        "for i in dfc:\n",
        "  val = dfo[i].value_counts().to_list()\n",
        "  for j in val:\n",
        "    if j/1459 > 0.8:\n",
        "      dfo = dfo.drop(i, axis=1) # dropping them if the exist\n",
        "display(dfo.shape) # checking the shape again\n",
        "\n",
        "\n",
        "# This section is for splitting the categorical columns into their dummy variables with pd.get_dummies\n",
        "column_df = pd.DataFrame() # initiate a new dataframe\n",
        "dfc = dfo.columns.to_list() # get the columns\n",
        "for i in dfc:\n",
        "    dummy = pd.get_dummies(dfo[i], drop_first=True, dtype='int64') # get the dummy variables and drop first (to reduce space)\n",
        "    column_df = pd.concat([column_df, dummy], axis = 1) # add the newly created dummy to the column_df\n",
        "\n",
        "display((column_df.shape)) # check the length of the new dataframe to ensure no errors\n",
        "\n",
        "new_df = pd.concat([dff, column_df], axis=1) # add the numeric columns to the newly created dummies dataframe"
      ],
      "metadata": {
        "colab": {
          "base_uri": "https://localhost:8080/",
          "height": 71
        },
        "id": "gK32wZlDKJiP",
        "outputId": "f978c5b1-be2c-48e7-c04a-b3c80ce9130e"
      },
      "execution_count": 137,
      "outputs": [
        {
          "output_type": "display_data",
          "data": {
            "text/plain": [
              "(1433, 38)"
            ]
          },
          "metadata": {}
        },
        {
          "output_type": "display_data",
          "data": {
            "text/plain": [
              "(1433, 19)"
            ]
          },
          "metadata": {}
        },
        {
          "output_type": "display_data",
          "data": {
            "text/plain": [
              "(1433, 118)"
            ]
          },
          "metadata": {}
        }
      ]
    },
    {
      "cell_type": "code",
      "source": [
        "# categorizing the object columns into a single dataframe\n",
        "dfto = dft.select_dtypes(include=['object'])\n",
        "dftc = dfto.columns.to_list() # getting the columns\n",
        "display(dfto.shape) # checking the length of the rows columns\n",
        "\n",
        "# dropping the columns and saving the remaining numeric columns result here to be used later\n",
        "dftf = dft.drop(dftc, axis=1)\n",
        "dftf.sample(3, random_state=101)\n",
        "display(dftf.shape)"
      ],
      "metadata": {
        "id": "nsaOe-w1diOw",
        "colab": {
          "base_uri": "https://localhost:8080/",
          "height": 53
        },
        "outputId": "1333a6b3-1909-4e00-be04-bb4b8dfbd294"
      },
      "execution_count": 138,
      "outputs": [
        {
          "output_type": "display_data",
          "data": {
            "text/plain": [
              "(1459, 38)"
            ]
          },
          "metadata": {}
        },
        {
          "output_type": "display_data",
          "data": {
            "text/plain": [
              "(1459, 36)"
            ]
          },
          "metadata": {}
        }
      ]
    },
    {
      "cell_type": "code",
      "source": [
        "display(dfto.shape) # checking the shape to keep track of the changes\n",
        "\n",
        "# Looping through the columns to find those with categories that are too skewed\n",
        "# (i.e, where one category hold 80% of the dataset)\n",
        "for i in dftc:\n",
        "  if i not in dfc:\n",
        "    dfto = dfto.drop(i, axis=1) # dropping them if the exist\n",
        "display(dfto.shape) # checking the shape again"
      ],
      "metadata": {
        "colab": {
          "base_uri": "https://localhost:8080/",
          "height": 53
        },
        "id": "sQqY_swBvhd1",
        "outputId": "1bc5b183-290e-4bd5-fcec-3dd71a20a765"
      },
      "execution_count": 139,
      "outputs": [
        {
          "output_type": "display_data",
          "data": {
            "text/plain": [
              "(1459, 38)"
            ]
          },
          "metadata": {}
        },
        {
          "output_type": "display_data",
          "data": {
            "text/plain": [
              "(1459, 19)"
            ]
          },
          "metadata": {}
        }
      ]
    },
    {
      "cell_type": "code",
      "source": [
        "# This section is for splitting the categorical columns into their dummy variables with pd.get_dummies\n",
        "column_dft = pd.DataFrame() # initiate a new dataframe\n",
        "dftc = dfto.columns.to_list() # get the columns\n",
        "display(len(dftc))\n",
        "for i in dftc:\n",
        "    dummy = pd.get_dummies(dfto[i], drop_first=True, dtype='int64') # get the dummy variables and drop first (to reduce space)\n",
        "    column_dft = pd.concat([column_dft, dummy], axis = 1) # add the newly created dummy to the column_df\n",
        "\n",
        "display(len(column_dft)) # check the length of the new dataframe to ensure no errors\n",
        "\n",
        "new_dft = pd.concat([dftf, column_dft], axis=1)"
      ],
      "metadata": {
        "colab": {
          "base_uri": "https://localhost:8080/",
          "height": 53
        },
        "id": "-IM6gsypuDly",
        "outputId": "0fb97b1b-3c00-4e4f-8e2c-4b8bda667184"
      },
      "execution_count": 140,
      "outputs": [
        {
          "output_type": "display_data",
          "data": {
            "text/plain": [
              "19"
            ]
          },
          "metadata": {}
        },
        {
          "output_type": "display_data",
          "data": {
            "text/plain": [
              "1459"
            ]
          },
          "metadata": {}
        }
      ]
    },
    {
      "cell_type": "code",
      "source": [
        "(column_dft.shape)"
      ],
      "metadata": {
        "colab": {
          "base_uri": "https://localhost:8080/"
        },
        "id": "9h2nuVGFxiHH",
        "outputId": "c5b2e8ce-3f87-4345-cc7f-2e63a6cc5751"
      },
      "execution_count": 141,
      "outputs": [
        {
          "output_type": "execute_result",
          "data": {
            "text/plain": [
              "(1459, 118)"
            ]
          },
          "metadata": {},
          "execution_count": 141
        }
      ]
    },
    {
      "cell_type": "code",
      "source": [
        "display(len(new_df.columns))\n",
        "display(len(new_dft.columns))"
      ],
      "metadata": {
        "colab": {
          "base_uri": "https://localhost:8080/",
          "height": 53
        },
        "id": "nkzojfi-ukYd",
        "outputId": "fe12b012-a512-4ff6-ed88-540df2fb96b5"
      },
      "execution_count": 142,
      "outputs": [
        {
          "output_type": "display_data",
          "data": {
            "text/plain": [
              "155"
            ]
          },
          "metadata": {}
        },
        {
          "output_type": "display_data",
          "data": {
            "text/plain": [
              "154"
            ]
          },
          "metadata": {}
        }
      ]
    },
    {
      "cell_type": "code",
      "source": [
        "dfcc = new_df.columns.to_list()\n",
        "dftcc = new_dft.columns.to_list()\n",
        "\n",
        "dfcc[:-1] == dftcc"
      ],
      "metadata": {
        "colab": {
          "base_uri": "https://localhost:8080/"
        },
        "id": "H9zMc1E6vApx",
        "outputId": "74fe0abc-fa88-421e-8e01-3a23930f47c6"
      },
      "execution_count": 143,
      "outputs": [
        {
          "output_type": "execute_result",
          "data": {
            "text/plain": [
              "False"
            ]
          },
          "metadata": {},
          "execution_count": 143
        }
      ]
    },
    {
      "cell_type": "code",
      "source": [],
      "metadata": {
        "id": "AfYhocShygW2"
      },
      "execution_count": 143,
      "outputs": []
    },
    {
      "cell_type": "code",
      "source": [],
      "metadata": {
        "id": "XhglLWXGyji1"
      },
      "execution_count": 143,
      "outputs": []
    },
    {
      "cell_type": "code",
      "source": [
        "# Basic imports for spliting, training and scoring\n",
        "from sklearn.model_selection import train_test_split, cross_val_score\n",
        "from sklearn.preprocessing import StandardScaler\n",
        "from sklearn.metrics import mean_squared_error, r2_score"
      ],
      "metadata": {
        "id": "Sd-pvbKLykPw"
      },
      "execution_count": 144,
      "outputs": []
    },
    {
      "cell_type": "code",
      "source": [
        "\n",
        "from sklearn.ensemble import GradientBoostingRegressor"
      ],
      "metadata": {
        "id": "yFfETmOxyoIS"
      },
      "execution_count": 145,
      "outputs": []
    },
    {
      "cell_type": "code",
      "source": [
        "scale = StandardScaler() # initiate the standard scaler\n",
        "\n",
        "# Fitting and transforming the independent variables\n",
        "X_scaled = scale.fit_transform(new_df.drop('SalePrice', axis=1)) #dropped SalePrice for y\n",
        "\n",
        "y = new_df[['SalePrice']].values.ravel() # get the dependent variable and flatten it with ravel"
      ],
      "metadata": {
        "id": "PyIlSmsKyriH"
      },
      "execution_count": 146,
      "outputs": []
    },
    {
      "cell_type": "code",
      "source": [
        "Xt_scaled = scale.transform(new_dft)"
      ],
      "metadata": {
        "id": "kFuBDwFGyyDj"
      },
      "execution_count": 147,
      "outputs": []
    },
    {
      "cell_type": "code",
      "source": [
        "# Initialize, fit and make predictions with the GradientBoost model\n",
        "GBR = GradientBoostingRegressor(n_estimators=500, max_depth = 1, random_state=101) # random state set to ensure repeatability\n",
        "GBR.fit(X_scaled, y)\n",
        "y_pred = GBR.predict(Xt_scaled)"
      ],
      "metadata": {
        "id": "Afp38PE1y6JE"
      },
      "execution_count": 148,
      "outputs": []
    },
    {
      "cell_type": "code",
      "source": [
        "xx = np.exp(y_pred)"
      ],
      "metadata": {
        "id": "XIb-vBoMzPGS"
      },
      "execution_count": 151,
      "outputs": []
    },
    {
      "cell_type": "code",
      "source": [
        "dtype_d = {0: \"int64\", 1: \"float64\"}\n",
        "pd.DataFrame([dft.index, xx]).T.astype(dtype_d)"
      ],
      "metadata": {
        "colab": {
          "base_uri": "https://localhost:8080/",
          "height": 424
        },
        "id": "WYBrRfaH3GYI",
        "outputId": "669c5ef5-09fc-418b-d579-7e4ef28a8c77"
      },
      "execution_count": 153,
      "outputs": [
        {
          "output_type": "execute_result",
          "data": {
            "text/plain": [
              "         0              1\n",
              "0     1461  124658.456793\n",
              "1     1462  155899.177622\n",
              "2     1463  185772.619188\n",
              "3     1464  193167.888125\n",
              "4     1465  201485.664363\n",
              "...    ...            ...\n",
              "1454  2915   86020.487514\n",
              "1455  2916   86996.647218\n",
              "1456  2917  185987.028681\n",
              "1457  2918  117514.374536\n",
              "1458  2919  233368.064874\n",
              "\n",
              "[1459 rows x 2 columns]"
            ],
            "text/html": [
              "\n",
              "  <div id=\"df-1f9c11fe-7431-4760-95ba-c95cba809bb8\" class=\"colab-df-container\">\n",
              "    <div>\n",
              "<style scoped>\n",
              "    .dataframe tbody tr th:only-of-type {\n",
              "        vertical-align: middle;\n",
              "    }\n",
              "\n",
              "    .dataframe tbody tr th {\n",
              "        vertical-align: top;\n",
              "    }\n",
              "\n",
              "    .dataframe thead th {\n",
              "        text-align: right;\n",
              "    }\n",
              "</style>\n",
              "<table border=\"1\" class=\"dataframe\">\n",
              "  <thead>\n",
              "    <tr style=\"text-align: right;\">\n",
              "      <th></th>\n",
              "      <th>0</th>\n",
              "      <th>1</th>\n",
              "    </tr>\n",
              "  </thead>\n",
              "  <tbody>\n",
              "    <tr>\n",
              "      <th>0</th>\n",
              "      <td>1461</td>\n",
              "      <td>124658.456793</td>\n",
              "    </tr>\n",
              "    <tr>\n",
              "      <th>1</th>\n",
              "      <td>1462</td>\n",
              "      <td>155899.177622</td>\n",
              "    </tr>\n",
              "    <tr>\n",
              "      <th>2</th>\n",
              "      <td>1463</td>\n",
              "      <td>185772.619188</td>\n",
              "    </tr>\n",
              "    <tr>\n",
              "      <th>3</th>\n",
              "      <td>1464</td>\n",
              "      <td>193167.888125</td>\n",
              "    </tr>\n",
              "    <tr>\n",
              "      <th>4</th>\n",
              "      <td>1465</td>\n",
              "      <td>201485.664363</td>\n",
              "    </tr>\n",
              "    <tr>\n",
              "      <th>...</th>\n",
              "      <td>...</td>\n",
              "      <td>...</td>\n",
              "    </tr>\n",
              "    <tr>\n",
              "      <th>1454</th>\n",
              "      <td>2915</td>\n",
              "      <td>86020.487514</td>\n",
              "    </tr>\n",
              "    <tr>\n",
              "      <th>1455</th>\n",
              "      <td>2916</td>\n",
              "      <td>86996.647218</td>\n",
              "    </tr>\n",
              "    <tr>\n",
              "      <th>1456</th>\n",
              "      <td>2917</td>\n",
              "      <td>185987.028681</td>\n",
              "    </tr>\n",
              "    <tr>\n",
              "      <th>1457</th>\n",
              "      <td>2918</td>\n",
              "      <td>117514.374536</td>\n",
              "    </tr>\n",
              "    <tr>\n",
              "      <th>1458</th>\n",
              "      <td>2919</td>\n",
              "      <td>233368.064874</td>\n",
              "    </tr>\n",
              "  </tbody>\n",
              "</table>\n",
              "<p>1459 rows × 2 columns</p>\n",
              "</div>\n",
              "    <div class=\"colab-df-buttons\">\n",
              "\n",
              "  <div class=\"colab-df-container\">\n",
              "    <button class=\"colab-df-convert\" onclick=\"convertToInteractive('df-1f9c11fe-7431-4760-95ba-c95cba809bb8')\"\n",
              "            title=\"Convert this dataframe to an interactive table.\"\n",
              "            style=\"display:none;\">\n",
              "\n",
              "  <svg xmlns=\"http://www.w3.org/2000/svg\" height=\"24px\" viewBox=\"0 -960 960 960\">\n",
              "    <path d=\"M120-120v-720h720v720H120Zm60-500h600v-160H180v160Zm220 220h160v-160H400v160Zm0 220h160v-160H400v160ZM180-400h160v-160H180v160Zm440 0h160v-160H620v160ZM180-180h160v-160H180v160Zm440 0h160v-160H620v160Z\"/>\n",
              "  </svg>\n",
              "    </button>\n",
              "\n",
              "  <style>\n",
              "    .colab-df-container {\n",
              "      display:flex;\n",
              "      gap: 12px;\n",
              "    }\n",
              "\n",
              "    .colab-df-convert {\n",
              "      background-color: #E8F0FE;\n",
              "      border: none;\n",
              "      border-radius: 50%;\n",
              "      cursor: pointer;\n",
              "      display: none;\n",
              "      fill: #1967D2;\n",
              "      height: 32px;\n",
              "      padding: 0 0 0 0;\n",
              "      width: 32px;\n",
              "    }\n",
              "\n",
              "    .colab-df-convert:hover {\n",
              "      background-color: #E2EBFA;\n",
              "      box-shadow: 0px 1px 2px rgba(60, 64, 67, 0.3), 0px 1px 3px 1px rgba(60, 64, 67, 0.15);\n",
              "      fill: #174EA6;\n",
              "    }\n",
              "\n",
              "    .colab-df-buttons div {\n",
              "      margin-bottom: 4px;\n",
              "    }\n",
              "\n",
              "    [theme=dark] .colab-df-convert {\n",
              "      background-color: #3B4455;\n",
              "      fill: #D2E3FC;\n",
              "    }\n",
              "\n",
              "    [theme=dark] .colab-df-convert:hover {\n",
              "      background-color: #434B5C;\n",
              "      box-shadow: 0px 1px 3px 1px rgba(0, 0, 0, 0.15);\n",
              "      filter: drop-shadow(0px 1px 2px rgba(0, 0, 0, 0.3));\n",
              "      fill: #FFFFFF;\n",
              "    }\n",
              "  </style>\n",
              "\n",
              "    <script>\n",
              "      const buttonEl =\n",
              "        document.querySelector('#df-1f9c11fe-7431-4760-95ba-c95cba809bb8 button.colab-df-convert');\n",
              "      buttonEl.style.display =\n",
              "        google.colab.kernel.accessAllowed ? 'block' : 'none';\n",
              "\n",
              "      async function convertToInteractive(key) {\n",
              "        const element = document.querySelector('#df-1f9c11fe-7431-4760-95ba-c95cba809bb8');\n",
              "        const dataTable =\n",
              "          await google.colab.kernel.invokeFunction('convertToInteractive',\n",
              "                                                    [key], {});\n",
              "        if (!dataTable) return;\n",
              "\n",
              "        const docLinkHtml = 'Like what you see? Visit the ' +\n",
              "          '<a target=\"_blank\" href=https://colab.research.google.com/notebooks/data_table.ipynb>data table notebook</a>'\n",
              "          + ' to learn more about interactive tables.';\n",
              "        element.innerHTML = '';\n",
              "        dataTable['output_type'] = 'display_data';\n",
              "        await google.colab.output.renderOutput(dataTable, element);\n",
              "        const docLink = document.createElement('div');\n",
              "        docLink.innerHTML = docLinkHtml;\n",
              "        element.appendChild(docLink);\n",
              "      }\n",
              "    </script>\n",
              "  </div>\n",
              "\n",
              "\n",
              "<div id=\"df-52978cc3-d4bc-4d58-84b4-0a2afcf8d4fd\">\n",
              "  <button class=\"colab-df-quickchart\" onclick=\"quickchart('df-52978cc3-d4bc-4d58-84b4-0a2afcf8d4fd')\"\n",
              "            title=\"Suggest charts\"\n",
              "            style=\"display:none;\">\n",
              "\n",
              "<svg xmlns=\"http://www.w3.org/2000/svg\" height=\"24px\"viewBox=\"0 0 24 24\"\n",
              "     width=\"24px\">\n",
              "    <g>\n",
              "        <path d=\"M19 3H5c-1.1 0-2 .9-2 2v14c0 1.1.9 2 2 2h14c1.1 0 2-.9 2-2V5c0-1.1-.9-2-2-2zM9 17H7v-7h2v7zm4 0h-2V7h2v10zm4 0h-2v-4h2v4z\"/>\n",
              "    </g>\n",
              "</svg>\n",
              "  </button>\n",
              "\n",
              "<style>\n",
              "  .colab-df-quickchart {\n",
              "      --bg-color: #E8F0FE;\n",
              "      --fill-color: #1967D2;\n",
              "      --hover-bg-color: #E2EBFA;\n",
              "      --hover-fill-color: #174EA6;\n",
              "      --disabled-fill-color: #AAA;\n",
              "      --disabled-bg-color: #DDD;\n",
              "  }\n",
              "\n",
              "  [theme=dark] .colab-df-quickchart {\n",
              "      --bg-color: #3B4455;\n",
              "      --fill-color: #D2E3FC;\n",
              "      --hover-bg-color: #434B5C;\n",
              "      --hover-fill-color: #FFFFFF;\n",
              "      --disabled-bg-color: #3B4455;\n",
              "      --disabled-fill-color: #666;\n",
              "  }\n",
              "\n",
              "  .colab-df-quickchart {\n",
              "    background-color: var(--bg-color);\n",
              "    border: none;\n",
              "    border-radius: 50%;\n",
              "    cursor: pointer;\n",
              "    display: none;\n",
              "    fill: var(--fill-color);\n",
              "    height: 32px;\n",
              "    padding: 0;\n",
              "    width: 32px;\n",
              "  }\n",
              "\n",
              "  .colab-df-quickchart:hover {\n",
              "    background-color: var(--hover-bg-color);\n",
              "    box-shadow: 0 1px 2px rgba(60, 64, 67, 0.3), 0 1px 3px 1px rgba(60, 64, 67, 0.15);\n",
              "    fill: var(--button-hover-fill-color);\n",
              "  }\n",
              "\n",
              "  .colab-df-quickchart-complete:disabled,\n",
              "  .colab-df-quickchart-complete:disabled:hover {\n",
              "    background-color: var(--disabled-bg-color);\n",
              "    fill: var(--disabled-fill-color);\n",
              "    box-shadow: none;\n",
              "  }\n",
              "\n",
              "  .colab-df-spinner {\n",
              "    border: 2px solid var(--fill-color);\n",
              "    border-color: transparent;\n",
              "    border-bottom-color: var(--fill-color);\n",
              "    animation:\n",
              "      spin 1s steps(1) infinite;\n",
              "  }\n",
              "\n",
              "  @keyframes spin {\n",
              "    0% {\n",
              "      border-color: transparent;\n",
              "      border-bottom-color: var(--fill-color);\n",
              "      border-left-color: var(--fill-color);\n",
              "    }\n",
              "    20% {\n",
              "      border-color: transparent;\n",
              "      border-left-color: var(--fill-color);\n",
              "      border-top-color: var(--fill-color);\n",
              "    }\n",
              "    30% {\n",
              "      border-color: transparent;\n",
              "      border-left-color: var(--fill-color);\n",
              "      border-top-color: var(--fill-color);\n",
              "      border-right-color: var(--fill-color);\n",
              "    }\n",
              "    40% {\n",
              "      border-color: transparent;\n",
              "      border-right-color: var(--fill-color);\n",
              "      border-top-color: var(--fill-color);\n",
              "    }\n",
              "    60% {\n",
              "      border-color: transparent;\n",
              "      border-right-color: var(--fill-color);\n",
              "    }\n",
              "    80% {\n",
              "      border-color: transparent;\n",
              "      border-right-color: var(--fill-color);\n",
              "      border-bottom-color: var(--fill-color);\n",
              "    }\n",
              "    90% {\n",
              "      border-color: transparent;\n",
              "      border-bottom-color: var(--fill-color);\n",
              "    }\n",
              "  }\n",
              "</style>\n",
              "\n",
              "  <script>\n",
              "    async function quickchart(key) {\n",
              "      const quickchartButtonEl =\n",
              "        document.querySelector('#' + key + ' button');\n",
              "      quickchartButtonEl.disabled = true;  // To prevent multiple clicks.\n",
              "      quickchartButtonEl.classList.add('colab-df-spinner');\n",
              "      try {\n",
              "        const charts = await google.colab.kernel.invokeFunction(\n",
              "            'suggestCharts', [key], {});\n",
              "      } catch (error) {\n",
              "        console.error('Error during call to suggestCharts:', error);\n",
              "      }\n",
              "      quickchartButtonEl.classList.remove('colab-df-spinner');\n",
              "      quickchartButtonEl.classList.add('colab-df-quickchart-complete');\n",
              "    }\n",
              "    (() => {\n",
              "      let quickchartButtonEl =\n",
              "        document.querySelector('#df-52978cc3-d4bc-4d58-84b4-0a2afcf8d4fd button');\n",
              "      quickchartButtonEl.style.display =\n",
              "        google.colab.kernel.accessAllowed ? 'block' : 'none';\n",
              "    })();\n",
              "  </script>\n",
              "</div>\n",
              "\n",
              "    </div>\n",
              "  </div>\n"
            ],
            "application/vnd.google.colaboratory.intrinsic+json": {
              "type": "dataframe",
              "summary": "{\n  \"name\": \"pd\",\n  \"rows\": 1459,\n  \"fields\": [\n    {\n      \"column\": 0,\n      \"properties\": {\n        \"dtype\": \"number\",\n        \"std\": 421,\n        \"min\": 1461,\n        \"max\": 2919,\n        \"num_unique_values\": 1459,\n        \"samples\": [\n          2782,\n          2297,\n          1874\n        ],\n        \"semantic_type\": \"\",\n        \"description\": \"\"\n      }\n    },\n    {\n      \"column\": 1,\n      \"properties\": {\n        \"dtype\": \"number\",\n        \"std\": 74633.52930636484,\n        \"min\": 54750.4885219735,\n        \"max\": 542278.5836780176,\n        \"num_unique_values\": 1454,\n        \"samples\": [\n          137999.01743430187,\n          125718.01761861288,\n          235458.40423565582\n        ],\n        \"semantic_type\": \"\",\n        \"description\": \"\"\n      }\n    }\n  ]\n}"
            }
          },
          "metadata": {},
          "execution_count": 153
        }
      ]
    },
    {
      "cell_type": "code",
      "source": [
        "pd.DataFrame([dft.index, xx]).T.astype(dtype_d).to_csv('sub.csv', index=False, header=[\"Id\", \"SalePrice\"])"
      ],
      "metadata": {
        "id": "70jI1hd4ziHs"
      },
      "execution_count": 156,
      "outputs": []
    },
    {
      "cell_type": "code",
      "source": [
        "pd.read_csv('sub.csv')"
      ],
      "metadata": {
        "colab": {
          "base_uri": "https://localhost:8080/",
          "height": 424
        },
        "id": "o2p1ZGQT0_zS",
        "outputId": "5ad91544-d74b-49ec-d4a8-60a2ebdae22d"
      },
      "execution_count": 157,
      "outputs": [
        {
          "output_type": "execute_result",
          "data": {
            "text/plain": [
              "        Id      SalePrice\n",
              "0     1461  124658.456793\n",
              "1     1462  155899.177622\n",
              "2     1463  185772.619188\n",
              "3     1464  193167.888125\n",
              "4     1465  201485.664363\n",
              "...    ...            ...\n",
              "1454  2915   86020.487514\n",
              "1455  2916   86996.647218\n",
              "1456  2917  185987.028681\n",
              "1457  2918  117514.374536\n",
              "1458  2919  233368.064874\n",
              "\n",
              "[1459 rows x 2 columns]"
            ],
            "text/html": [
              "\n",
              "  <div id=\"df-a06972f4-101b-47ca-be86-daa0b83575e5\" class=\"colab-df-container\">\n",
              "    <div>\n",
              "<style scoped>\n",
              "    .dataframe tbody tr th:only-of-type {\n",
              "        vertical-align: middle;\n",
              "    }\n",
              "\n",
              "    .dataframe tbody tr th {\n",
              "        vertical-align: top;\n",
              "    }\n",
              "\n",
              "    .dataframe thead th {\n",
              "        text-align: right;\n",
              "    }\n",
              "</style>\n",
              "<table border=\"1\" class=\"dataframe\">\n",
              "  <thead>\n",
              "    <tr style=\"text-align: right;\">\n",
              "      <th></th>\n",
              "      <th>Id</th>\n",
              "      <th>SalePrice</th>\n",
              "    </tr>\n",
              "  </thead>\n",
              "  <tbody>\n",
              "    <tr>\n",
              "      <th>0</th>\n",
              "      <td>1461</td>\n",
              "      <td>124658.456793</td>\n",
              "    </tr>\n",
              "    <tr>\n",
              "      <th>1</th>\n",
              "      <td>1462</td>\n",
              "      <td>155899.177622</td>\n",
              "    </tr>\n",
              "    <tr>\n",
              "      <th>2</th>\n",
              "      <td>1463</td>\n",
              "      <td>185772.619188</td>\n",
              "    </tr>\n",
              "    <tr>\n",
              "      <th>3</th>\n",
              "      <td>1464</td>\n",
              "      <td>193167.888125</td>\n",
              "    </tr>\n",
              "    <tr>\n",
              "      <th>4</th>\n",
              "      <td>1465</td>\n",
              "      <td>201485.664363</td>\n",
              "    </tr>\n",
              "    <tr>\n",
              "      <th>...</th>\n",
              "      <td>...</td>\n",
              "      <td>...</td>\n",
              "    </tr>\n",
              "    <tr>\n",
              "      <th>1454</th>\n",
              "      <td>2915</td>\n",
              "      <td>86020.487514</td>\n",
              "    </tr>\n",
              "    <tr>\n",
              "      <th>1455</th>\n",
              "      <td>2916</td>\n",
              "      <td>86996.647218</td>\n",
              "    </tr>\n",
              "    <tr>\n",
              "      <th>1456</th>\n",
              "      <td>2917</td>\n",
              "      <td>185987.028681</td>\n",
              "    </tr>\n",
              "    <tr>\n",
              "      <th>1457</th>\n",
              "      <td>2918</td>\n",
              "      <td>117514.374536</td>\n",
              "    </tr>\n",
              "    <tr>\n",
              "      <th>1458</th>\n",
              "      <td>2919</td>\n",
              "      <td>233368.064874</td>\n",
              "    </tr>\n",
              "  </tbody>\n",
              "</table>\n",
              "<p>1459 rows × 2 columns</p>\n",
              "</div>\n",
              "    <div class=\"colab-df-buttons\">\n",
              "\n",
              "  <div class=\"colab-df-container\">\n",
              "    <button class=\"colab-df-convert\" onclick=\"convertToInteractive('df-a06972f4-101b-47ca-be86-daa0b83575e5')\"\n",
              "            title=\"Convert this dataframe to an interactive table.\"\n",
              "            style=\"display:none;\">\n",
              "\n",
              "  <svg xmlns=\"http://www.w3.org/2000/svg\" height=\"24px\" viewBox=\"0 -960 960 960\">\n",
              "    <path d=\"M120-120v-720h720v720H120Zm60-500h600v-160H180v160Zm220 220h160v-160H400v160Zm0 220h160v-160H400v160ZM180-400h160v-160H180v160Zm440 0h160v-160H620v160ZM180-180h160v-160H180v160Zm440 0h160v-160H620v160Z\"/>\n",
              "  </svg>\n",
              "    </button>\n",
              "\n",
              "  <style>\n",
              "    .colab-df-container {\n",
              "      display:flex;\n",
              "      gap: 12px;\n",
              "    }\n",
              "\n",
              "    .colab-df-convert {\n",
              "      background-color: #E8F0FE;\n",
              "      border: none;\n",
              "      border-radius: 50%;\n",
              "      cursor: pointer;\n",
              "      display: none;\n",
              "      fill: #1967D2;\n",
              "      height: 32px;\n",
              "      padding: 0 0 0 0;\n",
              "      width: 32px;\n",
              "    }\n",
              "\n",
              "    .colab-df-convert:hover {\n",
              "      background-color: #E2EBFA;\n",
              "      box-shadow: 0px 1px 2px rgba(60, 64, 67, 0.3), 0px 1px 3px 1px rgba(60, 64, 67, 0.15);\n",
              "      fill: #174EA6;\n",
              "    }\n",
              "\n",
              "    .colab-df-buttons div {\n",
              "      margin-bottom: 4px;\n",
              "    }\n",
              "\n",
              "    [theme=dark] .colab-df-convert {\n",
              "      background-color: #3B4455;\n",
              "      fill: #D2E3FC;\n",
              "    }\n",
              "\n",
              "    [theme=dark] .colab-df-convert:hover {\n",
              "      background-color: #434B5C;\n",
              "      box-shadow: 0px 1px 3px 1px rgba(0, 0, 0, 0.15);\n",
              "      filter: drop-shadow(0px 1px 2px rgba(0, 0, 0, 0.3));\n",
              "      fill: #FFFFFF;\n",
              "    }\n",
              "  </style>\n",
              "\n",
              "    <script>\n",
              "      const buttonEl =\n",
              "        document.querySelector('#df-a06972f4-101b-47ca-be86-daa0b83575e5 button.colab-df-convert');\n",
              "      buttonEl.style.display =\n",
              "        google.colab.kernel.accessAllowed ? 'block' : 'none';\n",
              "\n",
              "      async function convertToInteractive(key) {\n",
              "        const element = document.querySelector('#df-a06972f4-101b-47ca-be86-daa0b83575e5');\n",
              "        const dataTable =\n",
              "          await google.colab.kernel.invokeFunction('convertToInteractive',\n",
              "                                                    [key], {});\n",
              "        if (!dataTable) return;\n",
              "\n",
              "        const docLinkHtml = 'Like what you see? Visit the ' +\n",
              "          '<a target=\"_blank\" href=https://colab.research.google.com/notebooks/data_table.ipynb>data table notebook</a>'\n",
              "          + ' to learn more about interactive tables.';\n",
              "        element.innerHTML = '';\n",
              "        dataTable['output_type'] = 'display_data';\n",
              "        await google.colab.output.renderOutput(dataTable, element);\n",
              "        const docLink = document.createElement('div');\n",
              "        docLink.innerHTML = docLinkHtml;\n",
              "        element.appendChild(docLink);\n",
              "      }\n",
              "    </script>\n",
              "  </div>\n",
              "\n",
              "\n",
              "<div id=\"df-8b8078f9-bcb8-4762-a498-53828a6283bd\">\n",
              "  <button class=\"colab-df-quickchart\" onclick=\"quickchart('df-8b8078f9-bcb8-4762-a498-53828a6283bd')\"\n",
              "            title=\"Suggest charts\"\n",
              "            style=\"display:none;\">\n",
              "\n",
              "<svg xmlns=\"http://www.w3.org/2000/svg\" height=\"24px\"viewBox=\"0 0 24 24\"\n",
              "     width=\"24px\">\n",
              "    <g>\n",
              "        <path d=\"M19 3H5c-1.1 0-2 .9-2 2v14c0 1.1.9 2 2 2h14c1.1 0 2-.9 2-2V5c0-1.1-.9-2-2-2zM9 17H7v-7h2v7zm4 0h-2V7h2v10zm4 0h-2v-4h2v4z\"/>\n",
              "    </g>\n",
              "</svg>\n",
              "  </button>\n",
              "\n",
              "<style>\n",
              "  .colab-df-quickchart {\n",
              "      --bg-color: #E8F0FE;\n",
              "      --fill-color: #1967D2;\n",
              "      --hover-bg-color: #E2EBFA;\n",
              "      --hover-fill-color: #174EA6;\n",
              "      --disabled-fill-color: #AAA;\n",
              "      --disabled-bg-color: #DDD;\n",
              "  }\n",
              "\n",
              "  [theme=dark] .colab-df-quickchart {\n",
              "      --bg-color: #3B4455;\n",
              "      --fill-color: #D2E3FC;\n",
              "      --hover-bg-color: #434B5C;\n",
              "      --hover-fill-color: #FFFFFF;\n",
              "      --disabled-bg-color: #3B4455;\n",
              "      --disabled-fill-color: #666;\n",
              "  }\n",
              "\n",
              "  .colab-df-quickchart {\n",
              "    background-color: var(--bg-color);\n",
              "    border: none;\n",
              "    border-radius: 50%;\n",
              "    cursor: pointer;\n",
              "    display: none;\n",
              "    fill: var(--fill-color);\n",
              "    height: 32px;\n",
              "    padding: 0;\n",
              "    width: 32px;\n",
              "  }\n",
              "\n",
              "  .colab-df-quickchart:hover {\n",
              "    background-color: var(--hover-bg-color);\n",
              "    box-shadow: 0 1px 2px rgba(60, 64, 67, 0.3), 0 1px 3px 1px rgba(60, 64, 67, 0.15);\n",
              "    fill: var(--button-hover-fill-color);\n",
              "  }\n",
              "\n",
              "  .colab-df-quickchart-complete:disabled,\n",
              "  .colab-df-quickchart-complete:disabled:hover {\n",
              "    background-color: var(--disabled-bg-color);\n",
              "    fill: var(--disabled-fill-color);\n",
              "    box-shadow: none;\n",
              "  }\n",
              "\n",
              "  .colab-df-spinner {\n",
              "    border: 2px solid var(--fill-color);\n",
              "    border-color: transparent;\n",
              "    border-bottom-color: var(--fill-color);\n",
              "    animation:\n",
              "      spin 1s steps(1) infinite;\n",
              "  }\n",
              "\n",
              "  @keyframes spin {\n",
              "    0% {\n",
              "      border-color: transparent;\n",
              "      border-bottom-color: var(--fill-color);\n",
              "      border-left-color: var(--fill-color);\n",
              "    }\n",
              "    20% {\n",
              "      border-color: transparent;\n",
              "      border-left-color: var(--fill-color);\n",
              "      border-top-color: var(--fill-color);\n",
              "    }\n",
              "    30% {\n",
              "      border-color: transparent;\n",
              "      border-left-color: var(--fill-color);\n",
              "      border-top-color: var(--fill-color);\n",
              "      border-right-color: var(--fill-color);\n",
              "    }\n",
              "    40% {\n",
              "      border-color: transparent;\n",
              "      border-right-color: var(--fill-color);\n",
              "      border-top-color: var(--fill-color);\n",
              "    }\n",
              "    60% {\n",
              "      border-color: transparent;\n",
              "      border-right-color: var(--fill-color);\n",
              "    }\n",
              "    80% {\n",
              "      border-color: transparent;\n",
              "      border-right-color: var(--fill-color);\n",
              "      border-bottom-color: var(--fill-color);\n",
              "    }\n",
              "    90% {\n",
              "      border-color: transparent;\n",
              "      border-bottom-color: var(--fill-color);\n",
              "    }\n",
              "  }\n",
              "</style>\n",
              "\n",
              "  <script>\n",
              "    async function quickchart(key) {\n",
              "      const quickchartButtonEl =\n",
              "        document.querySelector('#' + key + ' button');\n",
              "      quickchartButtonEl.disabled = true;  // To prevent multiple clicks.\n",
              "      quickchartButtonEl.classList.add('colab-df-spinner');\n",
              "      try {\n",
              "        const charts = await google.colab.kernel.invokeFunction(\n",
              "            'suggestCharts', [key], {});\n",
              "      } catch (error) {\n",
              "        console.error('Error during call to suggestCharts:', error);\n",
              "      }\n",
              "      quickchartButtonEl.classList.remove('colab-df-spinner');\n",
              "      quickchartButtonEl.classList.add('colab-df-quickchart-complete');\n",
              "    }\n",
              "    (() => {\n",
              "      let quickchartButtonEl =\n",
              "        document.querySelector('#df-8b8078f9-bcb8-4762-a498-53828a6283bd button');\n",
              "      quickchartButtonEl.style.display =\n",
              "        google.colab.kernel.accessAllowed ? 'block' : 'none';\n",
              "    })();\n",
              "  </script>\n",
              "</div>\n",
              "\n",
              "    </div>\n",
              "  </div>\n"
            ],
            "application/vnd.google.colaboratory.intrinsic+json": {
              "type": "dataframe",
              "summary": "{\n  \"name\": \"pd\",\n  \"rows\": 1459,\n  \"fields\": [\n    {\n      \"column\": \"Id\",\n      \"properties\": {\n        \"dtype\": \"number\",\n        \"std\": 421,\n        \"min\": 1461,\n        \"max\": 2919,\n        \"num_unique_values\": 1459,\n        \"samples\": [\n          2782,\n          2297,\n          1874\n        ],\n        \"semantic_type\": \"\",\n        \"description\": \"\"\n      }\n    },\n    {\n      \"column\": \"SalePrice\",\n      \"properties\": {\n        \"dtype\": \"number\",\n        \"std\": 74633.52930636484,\n        \"min\": 54750.4885219735,\n        \"max\": 542278.5836780176,\n        \"num_unique_values\": 1454,\n        \"samples\": [\n          137999.01743430187,\n          125718.01761861288,\n          235458.40423565585\n        ],\n        \"semantic_type\": \"\",\n        \"description\": \"\"\n      }\n    }\n  ]\n}"
            }
          },
          "metadata": {},
          "execution_count": 157
        }
      ]
    },
    {
      "cell_type": "code",
      "source": [],
      "metadata": {
        "id": "DvHKIERY5HiS"
      },
      "execution_count": null,
      "outputs": []
    }
  ]
}